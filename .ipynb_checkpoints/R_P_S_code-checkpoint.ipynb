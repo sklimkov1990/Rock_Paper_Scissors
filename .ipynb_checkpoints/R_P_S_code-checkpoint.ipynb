{
 "cells": [
  {
   "cell_type": "code",
   "execution_count": null,
   "metadata": {},
   "outputs": [],
   "source": [
    "import random"
   ]
  },
  {
   "cell_type": "code",
   "execution_count": null,
   "metadata": {},
   "outputs": [],
   "source": [
    "def check_win(user, computer):\n",
    "    if (user =='r' and computer == 's') or (user =='s' and computer == 'p') or (user =='p' and computer == 'r'):\n",
    "        return True"
   ]
  },
  {
   "cell_type": "code",
   "execution_count": null,
   "metadata": {},
   "outputs": [],
   "source": [
    "def Rock_Paper_Scissors():\n",
    "    player = input (\"What is your choice? Type in 'r' for Rock, 'p' for Paper, and 's' for Scissors: \")\n",
    "    choices = ['r','p','s']\n",
    "    opponent = random.choice(choices)\n",
    "    \n",
    "    if player == opponent:\n",
    "        return print (f\"It's a tie! Opponent's choice was also {opponent}\")\n",
    "    \n",
    "    if check_win(player, opponent):\n",
    "        return print (f\"Awesome! You won! Opponent's choice was {opponent}\")\n",
    "    \n",
    "    if check_win(player, opponent) !=True :\n",
    "        return print (f\"You lost! Opponent's choice was {opponent}\")"
   ]
  },
  {
   "cell_type": "code",
   "execution_count": null,
   "metadata": {},
   "outputs": [],
   "source": [
    "Rock_Paper_Scissors()"
   ]
  }
 ],
 "metadata": {
  "kernelspec": {
   "display_name": "Python 3",
   "language": "python",
   "name": "python3"
  },
  "language_info": {
   "codemirror_mode": {
    "name": "ipython",
    "version": 3
   },
   "file_extension": ".py",
   "mimetype": "text/x-python",
   "name": "python",
   "nbconvert_exporter": "python",
   "pygments_lexer": "ipython3",
   "version": "3.8.3"
  }
 },
 "nbformat": 4,
 "nbformat_minor": 4
}
